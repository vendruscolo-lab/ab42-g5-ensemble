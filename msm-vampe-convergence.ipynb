{
 "cells": [
  {
   "cell_type": "code",
   "execution_count": 1,
   "metadata": {
    "ExecuteTime": {
     "end_time": "2021-09-30T11:28:29.006887Z",
     "start_time": "2021-09-30T11:28:28.999970Z"
    },
    "tags": [
     "parameters"
    ]
   },
   "outputs": [],
   "source": [
    "# Papermill params\n",
    "ratio = 0.9          # Train-Test split ratio\n",
    "attempt = 0        # Number of times to run\n",
    "width = 512\n",
    "depth = 2\n",
    "learning_rate = 1e-2\n",
    "dropout = 0.05\n",
    "regularization = 1e-7\n",
    "epsilon = 1e-7\n",
    "attempts = 20"
   ]
  },
  {
   "cell_type": "code",
   "execution_count": null,
   "metadata": {},
   "outputs": [],
   "source": [
    "import random\n",
    "import matplotlib.pyplot as plt\n",
    "import seaborn as sns\n",
    "colors = sns.color_palette(\"husl\", 8)"
   ]
  },
  {
   "cell_type": "markdown",
   "metadata": {},
   "source": [
    "# Neural network\n",
    "\n",
    "In this notebook we evaluate convergence of the individual ensembles by comparing timescales for limited numbers of trajectories."
   ]
  },
  {
   "cell_type": "code",
   "execution_count": 2,
   "metadata": {
    "ExecuteTime": {
     "end_time": "2021-09-30T11:28:35.439766Z",
     "start_time": "2021-09-30T11:28:29.011591Z"
    }
   },
   "outputs": [
    {
     "name": "stderr",
     "output_type": "stream",
     "text": [
      "/home/thomas/anaconda3/envs/tf/lib/python3.5/site-packages/pyemma/__init__.py:130: UserWarning: You are not using the latest release of PyEMMA. Latest is 2.5.7, you have 2.5.4.\n",
      "  .format(latest=latest, current=current), category=UserWarning)\n"
     ]
    }
   ],
   "source": [
    "%run model.py"
   ]
  },
  {
   "cell_type": "code",
   "execution_count": 3,
   "metadata": {
    "ExecuteTime": {
     "end_time": "2021-09-30T11:28:35.445767Z",
     "start_time": "2021-09-30T11:28:35.441629Z"
    }
   },
   "outputs": [],
   "source": [
    "def statdist(X: np.ndarray) -> np.ndarray:\n",
    "    \"\"\"\n",
    "    Calculate the equilibrium distribution of a transition matrix.\n",
    "    \n",
    "    Parameters\n",
    "    ----------\n",
    "    X\n",
    "        Row-stochastic transition matrix\n",
    "    \n",
    "    Returns\n",
    "    -------\n",
    "    mu\n",
    "        Stationary distribution, i.e. the left\n",
    "        eigenvector associated with eigenvalue 1.\n",
    "    \n",
    "    \"\"\"\n",
    "    ev, evec = eig(X, left=True, right=False)\n",
    "    mu = evec.T[ev.argmax()]\n",
    "    mu /= mu.sum()\n",
    "    return mu"
   ]
  },
  {
   "cell_type": "code",
   "execution_count": 4,
   "metadata": {
    "ExecuteTime": {
     "end_time": "2021-09-30T11:28:35.508600Z",
     "start_time": "2021-09-30T11:28:35.447609Z"
    }
   },
   "outputs": [],
   "source": [
    "def test_split(data: MaybeListType[np.ndarray], lag: int, p: float=0.1, mask: Optional[np.ndarray]=None):\n",
    "    data = make_list(data)\n",
    "    lengths = np.array([len(d) for d in data])\n",
    "    nframes = lengths.sum()\n",
    "    \n",
    "    inds = np.empty((nframes, 4), dtype=np.int)\n",
    "    inds[:, 0] = np.repeat(np.arange(len(data), dtype=np.int), lengths)\n",
    "    inds[:, 1] = np.concatenate([np.arange(n) for n in lengths])\n",
    "    inds[:, 2] = np.arange(nframes, dtype=np.int)\n",
    "    inds[:, 3] = np.zeros_like(inds[:, 0]) if mask is None else mask\n",
    "    inds = unflatten(inds, lengths=[lengths])\n",
    "    \n",
    "    # Local (frame) shuffling\n",
    "    shuf_traj_inds = [np.random.choice(\n",
    "        d[:, 1], size=d.shape[FRAMES], replace=False) for d in inds]\n",
    "    \n",
    "    # Sort out too short trajectories, split out lagged part\n",
    "    n_pairs = 0\n",
    "    xt, xttau = [], []\n",
    "    for i, traj in enumerate(inds):\n",
    "        n_points = traj.shape[FRAMES]\n",
    "\n",
    "        # We'll just skip super short trajectories for now\n",
    "        shuf_traj_inds[i] = shuf_traj_inds[i][shuf_traj_inds[i] < (n_points - lag)]\n",
    "        if n_points <= lag:\n",
    "            continue\n",
    "                \n",
    "        n_pairs += n_points - lag\n",
    "        xt.append(traj[:n_points - lag][shuf_traj_inds[i]])\n",
    "        xttau.append(traj[lag:n_points][shuf_traj_inds[i]])\n",
    "        \n",
    "    # Shuffle externally\n",
    "    shuf_full_inds = np.random.choice(\n",
    "        np.arange(n_pairs, dtype=np.int), size=n_pairs, replace=False)\n",
    "    xt_shuf = np.vstack(xt)[shuf_full_inds]\n",
    "    xttau_shuf = np.vstack(xttau)[shuf_full_inds]\n",
    "    \n",
    "    # These are the entries for the test set\n",
    "    n_frames_test = int(xt_shuf.shape[FRAMES] * p)\n",
    "    inds_t = xt_shuf[:n_frames_test]\n",
    "    inds_ttau = xttau_shuf[:n_frames_test]\n",
    "    data_flat = np.vstack(data)\n",
    "    test_xt, test_xttau = data_flat[inds_t[:, 2]], data_flat[inds_ttau[:, 2]]\n",
    "    \n",
    "    # Mask out unwanted frames with NaNs\n",
    "    mask_pair = xt_shuf[:, 3] | xttau_shuf[:, 3]\n",
    "    test_xt[mask_pair[:n_frames_test]] = np.nan\n",
    "    test_xttau[mask_pair[:n_frames_test]] = np.nan\n",
    "    \n",
    "    # We can't just remove our test frame pairs, as the training set\n",
    "    # would then be out of sync! So we replace the test samples with\n",
    "    # NaNs instead, we can check for those later in the DataGenerator.\n",
    "    data_flat[np.union1d(inds_t[:, 2], inds_ttau[:, 2])] = np.nan\n",
    "    data_train_valid = unflatten(data_flat, lengths=[lengths])\n",
    "        \n",
    "    return data_train_valid, (test_xt, test_xttau)"
   ]
  },
  {
   "cell_type": "markdown",
   "metadata": {},
   "source": [
    "## Data\n",
    "### Trajectories\n",
    "Trajectories were acquired in five rounds of 1024 simulations each, totalling 5119 runs (one simulation failed to run) at 278 K in the $NVT$ ensemble. Postprocessing involved removing water, subsampling to 250 ps timesteps, and making molecules whole."
   ]
  },
  {
   "cell_type": "code",
   "execution_count": 5,
   "metadata": {
    "ExecuteTime": {
     "end_time": "2021-09-30T11:28:35.552417Z",
     "start_time": "2021-09-30T11:28:35.510575Z"
    }
   },
   "outputs": [],
   "source": [
    "sim_names = (\"holo\", \"control\", \"apo\")\n",
    "top, trajs = {}, {}\n",
    "trajs = {k: sorted(glob(\"trajectories/{0}/r?/traj*.xtc\".format(k))) for k in sim_names}\n",
    "top = {k: \"trajectories/{0}/topol.gro\".format(k) for k in sim_names}\n",
    "KBT = 2.311420 # 278 K\n",
    "nres = 42\n",
    "traj_rounds = {\n",
    "    \"apo\": [1024, 1023, 1024, 1024, 1024],\n",
    "    \"holo\": [1023, 1024, 32],\n",
    "    \"control\": [1024, 1023]\n",
    "}\n",
    "\n",
    "# This is only really necessary for the residues in the plots\n",
    "topo = md.load_topology(top[\"apo\"])"
   ]
  },
  {
   "cell_type": "markdown",
   "metadata": {},
   "source": [
    "We use minimum distances as features for the neural network:"
   ]
  },
  {
   "cell_type": "code",
   "execution_count": 6,
   "metadata": {
    "ExecuteTime": {
     "end_time": "2021-09-30T11:28:56.293417Z",
     "start_time": "2021-09-30T11:28:35.554112Z"
    },
    "scrolled": true
   },
   "outputs": [
    {
     "data": {
      "application/vnd.jupyter.widget-view+json": {
       "model_id": "",
       "version_major": 2,
       "version_minor": 0
      },
      "text/plain": [
       "HBox(children=(HBox(children=(Label(value='Obtaining file info'),), layout=Layout(max_width='35%', min_width='…"
      ]
     },
     "metadata": {},
     "output_type": "display_data"
    },
    {
     "name": "stdout",
     "output_type": "stream",
     "text": [
      "\r"
     ]
    },
    {
     "data": {
      "application/vnd.jupyter.widget-view+json": {
       "model_id": "",
       "version_major": 2,
       "version_minor": 0
      },
      "text/plain": [
       "HBox(children=(HBox(children=(Label(value='Obtaining file info'),), layout=Layout(max_width='35%', min_width='…"
      ]
     },
     "metadata": {},
     "output_type": "display_data"
    },
    {
     "name": "stdout",
     "output_type": "stream",
     "text": [
      "\r"
     ]
    },
    {
     "data": {
      "application/vnd.jupyter.widget-view+json": {
       "model_id": "",
       "version_major": 2,
       "version_minor": 0
      },
      "text/plain": [
       "HBox(children=(HBox(children=(Label(value='Obtaining file info'),), layout=Layout(max_width='35%', min_width='…"
      ]
     },
     "metadata": {},
     "output_type": "display_data"
    },
    {
     "name": "stdout",
     "output_type": "stream",
     "text": [
      "\r"
     ]
    }
   ],
   "source": [
    "allpairs = np.asarray(list(itertools.combinations(range(nres), 2)))\n",
    "inpcon = {}\n",
    "for k in sim_names:\n",
    "    feat = pe.coordinates.featurizer(top[k])\n",
    "    feat.add_residue_mindist(residue_pairs=allpairs)\n",
    "    inpcon[k] = pe.coordinates.source(trajs[k], feat)"
   ]
  },
  {
   "cell_type": "code",
   "execution_count": 7,
   "metadata": {
    "ExecuteTime": {
     "end_time": "2021-09-30T11:28:56.321923Z",
     "start_time": "2021-09-30T11:28:56.295360Z"
    }
   },
   "outputs": [],
   "source": [
    "lengths, nframes = {}, {}\n",
    "for i, k in enumerate(sim_names):\n",
    "    lengths[k] = sort_lengths(inpcon[k].trajectory_lengths(), traj_rounds[k])\n",
    "    nframes[k] = inpcon[k].trajectory_lengths().sum()"
   ]
  },
  {
   "cell_type": "code",
   "execution_count": 8,
   "metadata": {
    "ExecuteTime": {
     "end_time": "2021-09-30T11:28:56.340584Z",
     "start_time": "2021-09-30T11:28:56.323963Z"
    }
   },
   "outputs": [
    {
     "name": "stdout",
     "output_type": "stream",
     "text": [
      "\t\tholo\t\tcontrol\t\tapo\n",
      "Trajs: \t\t2079\t\t2047\t\t5119\n",
      "Frames: \t1225868\t\t1114503\t\t1259172\n",
      "Time: \t\t306.467 µs\t278.626 µs\t314.793 µs\n"
     ]
    }
   ],
   "source": [
    "print(\"\\t\\t\" + \"\\t\\t\".join(sim_names))\n",
    "print(\"\\n\".join((\n",
    "    \"Trajs: \\t\\t\" + \"\\t\\t\".join(\"{0}\".format(len(trajs[k])) for k in sim_names),\n",
    "    \"Frames: \\t\" + \"\\t\\t\".join(\"{0}\".format(nframes[k]) for k in sim_names),\n",
    "    \"Time: \\t\\t\" + \"\\t\".join(\"{0:5.3f} µs\".format(inpcon[k].trajectory_lengths().sum() * 0.00025)\n",
    "                           for k in sim_names)\n",
    ")))"
   ]
  },
  {
   "cell_type": "markdown",
   "metadata": {},
   "source": [
    "## VAMPNet\n",
    "VAMPNet[1] is composed of two lobes, one reading the system features $\\mathbf{x}$ at a timepoint $t$ and the other after some lag time $\\tau$. In this case the network reads all minimum inter-residue distances (780 values) and sends them through 5 layers with 256 nodes each. The final layer uses between 2 and 8 *softmax* outputs to yield a state assignment vector $\\chi: \\mathbb{R}^m \\to \\Delta^{n}$ where $\\Delta^{n} = \\{ s \\in \\mathbb{R}^n \\mid 0 \\le s_i \\le 1, \\sum_i^n s_i = 1 \\}$ representing the probability of a state assignment. One lobe thus transforms a system state into a state occupation probability. We can also view this value as a kind of reverse ambiguity, i.e. how sure the network is that the system is part of a certain cluster. These outputs are then used as the input for the VAMP scoring function. We use the new enhanced version with physical constraints[2], particularly the ones for positive entries and reversibility.\n",
    "\n",
    "[1] Mardt, A., Pasquali, L., Wu, H. & Noé, F. VAMPnets for deep learning of molecular kinetics. Nat Comms 1–11 (2017). doi:10.1038/s41467-017-02388-1\n",
    "\n",
    "[2] Mardt, A., Pasquali, L., Noé, F. & Wu, H. Deep learning Markov and Koopman models with physical constraints. arXiv:1912.07392 [physics] (2019)."
   ]
  },
  {
   "cell_type": "markdown",
   "metadata": {},
   "source": [
    "### Data preparation\n",
    "We use minimum residue distances as input ($\\frac{N(N-1)}{2}$ values, where $N$ is the number of residues) and first normalize the data:"
   ]
  },
  {
   "cell_type": "code",
   "execution_count": 9,
   "metadata": {
    "ExecuteTime": {
     "end_time": "2021-09-30T11:28:56.346392Z",
     "start_time": "2021-09-30T11:28:56.342412Z"
    }
   },
   "outputs": [],
   "source": [
    "for k in sim_names:\n",
    "    filename = \"intermediate/mindist-all-{0}.npy\".format(k)\n",
    "    if not os.path.exists(filename):\n",
    "        print(\"No mindist file for {0} ensemble, calculating from scratch...\".format(k))\n",
    "        con = np.vstack(inpcon[k].get_output())\n",
    "        np.save(filename, con)"
   ]
  },
  {
   "cell_type": "code",
   "execution_count": 10,
   "metadata": {
    "ExecuteTime": {
     "end_time": "2021-09-30T11:30:25.009002Z",
     "start_time": "2021-09-30T11:28:56.348055Z"
    }
   },
   "outputs": [],
   "source": [
    "idx = np.triu_indices(nres, k=1)\n",
    "mat = np.zeros((nres, nres), dtype=np.int)\n",
    "full_flat, full_data = {}, {}\n",
    "for k in sim_names:\n",
    "    raw = np.load(\"intermediate/mindist-all-{0}.npy\".format(k))\n",
    "    mat[idx] = np.arange(raw.shape[1])\n",
    "    redinds = mat[np.triu_indices_from(mat, k=3)]\n",
    "    full_flat[k] = ((raw - raw.mean(axis=0)) / raw.std(axis=0))[:, redinds]\n",
    "    full_data[k] = unflatten(full_flat[k], lengths[k])"
   ]
  },
  {
   "cell_type": "markdown",
   "metadata": {},
   "source": [
    "### Neural network hyperparameters\n",
    "To allow for a larger hyperparameter search space, we use the self-normalizing neural network approach by Klambauer *et al.* [2], thus using SELU units, `AlphaDropout` and normalized `LeCun` weight initialization. The other hyperparameters are defined at the beginning of this notebook.\n",
    "\n",
    "[2] Klambauer, G., Unterthiner, T., Mayr, A. & Hochreiter, S. Self-Normalizing Neural Networks. arXiv.org cs.LG, (2017)."
   ]
  },
  {
   "cell_type": "code",
   "execution_count": 11,
   "metadata": {
    "ExecuteTime": {
     "end_time": "2021-09-30T11:30:25.017939Z",
     "start_time": "2021-09-30T11:30:25.011136Z"
    }
   },
   "outputs": [],
   "source": [
    "activation = \"selu\"                 # NN activation function\n",
    "init = \"lecun_uniform\"              # NN weight initialization\n",
    "lag = 20                            # Lag time\n",
    "n_epoch = 100                       # Max. number of epochs\n",
    "n_epoch_s = 10000                   # Max. number of epochs for S optimization\n",
    "n_batch = 10000                     # Training batch size\n",
    "n_dims = full_data[k][0].shape[1]   # Input dimension\n",
    "nres = 42                           # Number of residues\n",
    "epsilon = 1e-7                      # Floating point noise\n",
    "dt = 0.25                           # Trajectory timestep in ns\n",
    "steps = 6                           # CK test steps\n",
    "bs_frames = 1000000                 # Number of frames in the bootstrap sample\n",
    "n_tries = 1                         # Number of training attempts for each model, we pick the best scoring one\n",
    "\n",
    "# outsizes = np.array([4, 2, 3, 5, 6])\n",
    "outsizes = np.array([8, 10, 12, 14, 16])\n",
    "lags = np.array([1, 2, 5, 10, 20, 50, 100])"
   ]
  },
  {
   "cell_type": "markdown",
   "metadata": {},
   "source": [
    "### Bound ensemble\n",
    "We filter out unbound frames to avoid issues with potential non-equilibrium conditions, as we see essentially no unbinding events."
   ]
  },
  {
   "cell_type": "code",
   "execution_count": 12,
   "metadata": {
    "ExecuteTime": {
     "end_time": "2021-09-30T11:30:28.660804Z",
     "start_time": "2021-09-30T11:30:25.019896Z"
    }
   },
   "outputs": [
    {
     "data": {
      "application/vnd.jupyter.widget-view+json": {
       "model_id": "",
       "version_major": 2,
       "version_minor": 0
      },
      "text/plain": [
       "HBox(children=(HBox(children=(Label(value='Obtaining file info'),), layout=Layout(max_width='35%', min_width='…"
      ]
     },
     "metadata": {},
     "output_type": "display_data"
    },
    {
     "name": "stdout",
     "output_type": "stream",
     "text": [
      "\r"
     ]
    },
    {
     "data": {
      "application/vnd.jupyter.widget-view+json": {
       "model_id": "",
       "version_major": 2,
       "version_minor": 0
      },
      "text/plain": [
       "HBox(children=(HBox(children=(Label(value='Obtaining file info'),), layout=Layout(max_width='35%', min_width='…"
      ]
     },
     "metadata": {},
     "output_type": "display_data"
    },
    {
     "name": "stdout",
     "output_type": "stream",
     "text": [
      "\r"
     ]
    }
   ],
   "source": [
    "inter_pairs = list(itertools.product(range(nres), (nres,)))\n",
    "intercon = {}\n",
    "for k in (\"holo\", \"control\"):\n",
    "    feat = pe.coordinates.featurizer(top[k])\n",
    "    feat.add_residue_mindist(residue_pairs=inter_pairs)\n",
    "    intercon[k] = pe.coordinates.source(trajs[k], feat)"
   ]
  },
  {
   "cell_type": "code",
   "execution_count": 13,
   "metadata": {
    "ExecuteTime": {
     "end_time": "2021-09-30T11:30:30.247119Z",
     "start_time": "2021-09-30T11:30:28.662613Z"
    }
   },
   "outputs": [],
   "source": [
    "inter_con = {}\n",
    "for k in (\"holo\", \"control\"):\n",
    "    filename = \"intermediate/mindist-inter-all-{0}.npy\".format(k)\n",
    "    if not os.path.exists(filename):\n",
    "        print(\"No mindist file for {0} ensemble, calculating from scratch...\".format(k))\n",
    "        inter_con[k] = np.vstack(intercon[k].get_output())\n",
    "        np.save(filename, inter_con)\n",
    "    else:\n",
    "        inter_con[k] = np.load(filename)"
   ]
  },
  {
   "cell_type": "code",
   "execution_count": 14,
   "metadata": {
    "ExecuteTime": {
     "end_time": "2021-09-30T11:30:30.326644Z",
     "start_time": "2021-09-30T11:30:30.249073Z"
    }
   },
   "outputs": [],
   "source": [
    "cutoff = 0.5  # Compromise given the above plot\n",
    "masks = {k: (inter_con[k] < cutoff).any(axis=1) for k in (\"holo\",)}\n",
    "masks.update({k: np.full(full_flat[k].shape[0], True) for k in (\"apo\", \"control\")})"
   ]
  },
  {
   "cell_type": "code",
   "execution_count": 15,
   "metadata": {
    "ExecuteTime": {
     "end_time": "2021-09-30T11:31:23.505924Z",
     "start_time": "2021-09-30T11:30:30.328502Z"
    }
   },
   "outputs": [
    {
     "name": "stdout",
     "output_type": "stream",
     "text": [
      "Reading existing input file for holo ensemble...\n",
      "Reading existing input file for apo ensemble...\n",
      "Reading existing input file for control ensemble...\n"
     ]
    }
   ],
   "source": [
    "input_data, input_flat, test_data = {}, {}, {}\n",
    "for k in (\"holo\", \"apo\", \"control\"):\n",
    "    filename = \"intermediate/input-mask-{0}.npz\".format(k)\n",
    "    if not os.path.exists(filename):\n",
    "        print(\"No input file for {0} ensemble, resplitting...\".format(k))\n",
    "        input_data[k], test_data[k] = test_split(full_data[k], lag=lag, mask=~masks[k])\n",
    "        input_flat[k] = np.vstack(input_data[k])\n",
    "        input_flat[k][~masks[k]] = np.nan\n",
    "        np.savez(filename, data=input_flat[k], test_t=test_data[k][0], test_ttau=test_data[k][1])\n",
    "    else:\n",
    "        print(\"Reading existing input file for {0} ensemble...\".format(k))\n",
    "        raw = np.load(filename)\n",
    "        input_flat[k], test_data[k] = raw[\"data\"], (raw[\"test_t\"], raw[\"test_ttau\"])\n",
    "        input_data[k] = unflatten(input_flat[k], lengths=lengths[k])"
   ]
  },
  {
   "cell_type": "markdown",
   "metadata": {},
   "source": [
    "### Run\n",
    "We evaluate the Koopman model with varying numbers of trajectories and compare the implied timescales."
   ]
  },
  {
   "cell_type": "code",
   "execution_count": 46,
   "metadata": {
    "ExecuteTime": {
     "end_time": "2021-09-30T15:24:41.888424Z",
     "start_time": "2021-09-30T14:46:54.648034Z"
    },
    "collapsed": true
   },
   "outputs": [
    {
     "name": "stdout",
     "output_type": "stream",
     "text": [
      "Restoring model weights from the end of the best epoch\n",
      "Epoch 00232: early stopping\n",
      "Restoring model weights from the end of the best epoch\n",
      "Epoch 00818: early stopping\n",
      "Lag loss: -1.9996654987335205\n",
      "Restoring model weights from the end of the best epoch\n",
      "Epoch 00427: early stopping\n",
      "Restoring model weights from the end of the best epoch\n",
      "Epoch 00389: early stopping\n",
      "Lag loss: -1.9883699417114258\n",
      "Restoring model weights from the end of the best epoch\n",
      "Epoch 00070: early stopping\n",
      "Restoring model weights from the end of the best epoch\n",
      "Epoch 00302: early stopping\n",
      "Lag loss: -1.9999778270721436\n",
      "Restoring model weights from the end of the best epoch\n",
      "Epoch 00051: early stopping\n",
      "Restoring model weights from the end of the best epoch\n",
      "Epoch 00452: early stopping\n",
      "Lag loss: -1.9951941967010498\n",
      "Restoring model weights from the end of the best epoch\n",
      "Epoch 00537: early stopping\n",
      "Restoring model weights from the end of the best epoch\n",
      "Epoch 00134: early stopping\n",
      "Lag loss: -1.9904100894927979\n",
      "Restoring model weights from the end of the best epoch\n",
      "Epoch 00090: early stopping\n",
      "Restoring model weights from the end of the best epoch\n",
      "Epoch 00344: early stopping\n",
      "Lag loss: -1.9924297332763672\n",
      "Restoring model weights from the end of the best epoch\n",
      "Epoch 00283: early stopping\n",
      "Restoring model weights from the end of the best epoch\n",
      "Epoch 00193: early stopping\n",
      "Lag loss: -1.9824985265731812\n",
      "Restoring model weights from the end of the best epoch\n",
      "Epoch 00210: early stopping\n",
      "Restoring model weights from the end of the best epoch\n",
      "Epoch 00431: early stopping\n",
      "Lag loss: -1.991247296333313\n",
      "Restoring model weights from the end of the best epoch\n",
      "Epoch 00051: early stopping\n",
      "Restoring model weights from the end of the best epoch\n",
      "Epoch 00442: early stopping\n",
      "Lag loss: -1.9851287603378296\n",
      "Restoring model weights from the end of the best epoch\n",
      "Epoch 00271: early stopping\n",
      "Restoring model weights from the end of the best epoch\n",
      "Epoch 00239: early stopping\n",
      "Lag loss: -1.987882137298584\n",
      "Restoring model weights from the end of the best epoch\n",
      "Epoch 00121: early stopping\n",
      "Restoring model weights from the end of the best epoch\n",
      "Epoch 00613: early stopping\n",
      "Lag loss: -1.9918204545974731\n",
      "Restoring model weights from the end of the best epoch\n",
      "Epoch 00569: early stopping\n",
      "Restoring model weights from the end of the best epoch\n",
      "Epoch 00498: early stopping\n",
      "Lag loss: -1.9835622310638428\n"
     ]
    }
   ],
   "source": [
    "n = 2\n",
    "for k in (\"holo\", \"control\"):\n",
    "    filename = \"intermediate/k-conv-{0}-{1}-1.npy\".format(k, n)\n",
    "    n_trajs = np.array([1024, 2048])\n",
    "    k_conv = np.empty((len(n_trajs), attempts, n, n))\n",
    "    for j, nt in enumerate(n_trajs):\n",
    "        for i in range(3):\n",
    "            generator = DataGenerator(input_data[k][:nt])\n",
    "            print(\"Analysing trajs={0} n={1} i={2}...\".format(j, n, i), end=\"\\r\")\n",
    "            koop = KoopmanModel(n=n, network_lag=lag, verbose=0, nnargs=dict(\n",
    "                width=width, depth=depth, learning_rate=learning_rate,\n",
    "                regularization=regularization, dropout=dropout,\n",
    "                batchnorm=False, lr_factor=2e-2))\n",
    "            koop.load(\"models/model-ve-{0}-{1}-{2}.hdf5\".format(k, n, i))\n",
    "            koop.generator = generator\n",
    "            k_conv[j, i] = koop.estimate_koopman(lag=50)\n",
    "            del koop\n",
    "            gc.collect()\n",
    "    np.save(filename, k_conv)"
   ]
  },
  {
   "cell_type": "markdown",
   "metadata": {},
   "source": [
    "Concatenate partial runs:"
   ]
  },
  {
   "cell_type": "code",
   "execution_count": 52,
   "metadata": {
    "ExecuteTime": {
     "end_time": "2021-09-30T15:29:47.828962Z",
     "start_time": "2021-09-30T15:29:47.823050Z"
    }
   },
   "outputs": [],
   "source": [
    "n = 2\n",
    "k_conv = {}\n",
    "for k in (\"holo\", \"control\"):\n",
    "    k_conv[k] = np.concatenate([np.load(\"intermediate/k-conv-{0}-{1}.npy\".format(k, n))[:, :2],\n",
    "                                np.load(\"intermediate/k-conv-{0}-{1}-1.npy\".format(k, n))[:, :3]], axis=1)"
   ]
  },
  {
   "cell_type": "code",
   "execution_count": 55,
   "metadata": {
    "ExecuteTime": {
     "end_time": "2021-09-30T15:30:19.277607Z",
     "start_time": "2021-09-30T15:30:19.271271Z"
    }
   },
   "outputs": [],
   "source": [
    "its_conv = {}\n",
    "for k in (\"holo\", \"control\"):\n",
    "    n_rounds = len(k_conv[k])\n",
    "    its_conv[k] = np.empty((n_rounds, 5, n - 1))\n",
    "    for j in range(n_rounds):\n",
    "        for i in range(5):\n",
    "            its_conv[k][j, i] = -50 * dt / np.log(np.sort(np.linalg.eigvals(k_conv[k][j, i]))[::-1])[1:]"
   ]
  },
  {
   "cell_type": "code",
   "execution_count": 75,
   "metadata": {
    "ExecuteTime": {
     "end_time": "2021-09-30T15:37:29.028133Z",
     "start_time": "2021-09-30T15:37:28.519232Z"
    }
   },
   "outputs": [
    {
     "data": {
      "image/png": "[encoded data removed]",
      "text/plain": [
       "<Figure size 144x288 with 1 Axes>"
      ]
     },
     "metadata": {
      "needs_background": "light"
     },
     "output_type": "display_data"
    },
    {
     "data": {
      "image/png": "[encoded data removed]",
      "text/plain": [
       "<Figure size 144x288 with 1 Axes>"
      ]
     },
     "metadata": {
      "needs_background": "light"
     },
     "output_type": "display_data"
    }
   ],
   "source": [
    "for i, k in enumerate((\"holo\", \"control\")):\n",
    "    fig = plt.figure(figsize=(2, 4))\n",
    "    ax = fig.add_subplot(111)\n",
    "    its_conv_m = its_conv[k].squeeze().mean(axis=1)\n",
    "    its_conv_l, its_conv_h = np.percentile(its_conv[k].squeeze(), (2.5, 97.5), axis=1)\n",
    "    ax.bar([0, 1], its_conv_m, yerr=[its_conv_m - its_conv_l, its_conv_h - its_conv_m],\n",
    "           capsize=8, color=colors[i + 4])\n",
    "    ax.set_xticklabels([0, 1024, 2048], fontsize=20)\n",
    "    ax.set_ylim(0, 5100)\n",
    "    ax.set_yticks(np.arange(0, 6000, 1000))\n",
    "    ax.tick_params(axis=\"x\", length=0)\n",
    "    ax.tick_params(axis=\"both\", labelsize=20)\n",
    "    sns.despine(ax=ax)\n",
    "    plt.savefig(\"figs/conv-bar-{0}.pdf\".format(k), bbox_inches=\"tight\", transparent=True)\n",
    "    plt.savefig(\"figs/conv-bar-{0}.svg\".format(k), bbox_inches=\"tight\", transparent=True)"
   ]
  }
 ],
 "metadata": {
  "kernelspec": {
   "display_name": "Python 3",
   "language": "python",
   "name": "python3"
  },
  "language_info": {
   "codemirror_mode": {
    "name": "ipython",
    "version": 3
   },
   "file_extension": ".py",
   "mimetype": "text/x-python",
   "name": "python",
   "nbconvert_exporter": "python",
   "pygments_lexer": "ipython3",
   "version": "3.7.7"
  }
 },
 "nbformat": 4,
 "nbformat_minor": 2
}
